{
  "nbformat": 4,
  "nbformat_minor": 0,
  "metadata": {
    "colab": {
      "provenance": [],
      "gpuType": "T4"
    },
    "kernelspec": {
      "name": "python3",
      "display_name": "Python 3"
    },
    "language_info": {
      "name": "python"
    },
    "accelerator": "GPU"
  },
  "cells": [
    {
      "cell_type": "markdown",
      "source": [
        "1. Use a deep network for the MNIST data set. Perform at least three different types of\n",
        "targeted attacks on 5 different numbers, including one attack which puts particular\n",
        "effort on the fact that the attacked pattern is indistinguishable from the original one..\n",
        "Evaluate the performance of the attacks visually (which attack does not change the\n",
        "visual impression) and quantitatively (distance of attack to original sample, success\n",
        "rate of the approach).\n"
      ],
      "metadata": {
        "id": "trlC-gPdKXzf"
      }
    },
    {
      "cell_type": "code",
      "source": [
        "#importing all the required libraries\n",
        "\n",
        "import numpy as np\n",
        "import tensorflow as tf\n",
        "import matplotlib.pyplot as plt\n",
        "from tensorflow.keras.datasets import mnist\n",
        "from tensorflow.keras.models import Sequential\n",
        "from tensorflow.keras.layers import Dense, Dropout\n",
        "from tensorflow.keras import backend as K"
      ],
      "metadata": {
        "id": "SXoSswilKZK1"
      },
      "execution_count": 34,
      "outputs": []
    },
    {
      "cell_type": "code",
      "source": [
        "#Loading the MNIST dataset\n",
        "(x_train, y_train), (x_test, y_test) = mnist.load_data()"
      ],
      "metadata": {
        "id": "RPbBJy5sL_-K"
      },
      "execution_count": 35,
      "outputs": []
    },
    {
      "cell_type": "code",
      "source": [
        "#Preprossesing and splitting the dataset\n",
        "\n",
        "# Reshape the data\n",
        "x_train = np.reshape(x_train, (len(x_train), 784))\n",
        "x_test = np.reshape(x_test, (len(x_test), 784))\n",
        "\n",
        "x_train = x_train.astype('float32') / 255.0\n",
        "x_test = x_test.astype('float32') / 255.0\n"
      ],
      "metadata": {
        "id": "df47XmRJMGEA"
      },
      "execution_count": 37,
      "outputs": []
    },
    {
      "cell_type": "code",
      "source": [
        "# Convert labels to one-hot encoding\n",
        "y_train = tf.keras.utils.to_categorical(y_train, 10)\n",
        "y_test = tf.keras.utils.to_categorical(y_test, 10)"
      ],
      "metadata": {
        "id": "ogmV33ibaJBy"
      },
      "execution_count": 38,
      "outputs": []
    },
    {
      "cell_type": "code",
      "source": [
        "#defining the Deep Neural Network\n",
        "model = Sequential()\n",
        "model.add(Dense(512, activation='relu', input_shape=(784,)))\n",
        "model.add(Dropout(0.2))\n",
        "model.add(Dense(512, activation='relu'))\n",
        "model.add(Dropout(0.2))\n",
        "model.add(Dense(10, activation='softmax'))"
      ],
      "metadata": {
        "id": "OrGCg9wGMeIw"
      },
      "execution_count": 39,
      "outputs": []
    },
    {
      "cell_type": "code",
      "source": [
        "# Compile and train the model\n",
        "model.compile(loss='categorical_crossentropy', optimizer='adam', metrics=['accuracy'])\n",
        "model.fit(x_train, y_train, batch_size=32, epochs=10, validation_data=(x_test, y_test))"
      ],
      "metadata": {
        "colab": {
          "base_uri": "https://localhost:8080/"
        },
        "id": "ti-HagTfaXZJ",
        "outputId": "7c81ddd0-83a8-4178-8ffc-0b0c83e2e90c"
      },
      "execution_count": 40,
      "outputs": [
        {
          "output_type": "stream",
          "name": "stdout",
          "text": [
            "Epoch 1/10\n",
            "1875/1875 [==============================] - 7s 3ms/step - loss: 0.5541 - accuracy: 0.8286 - val_loss: 0.2933 - val_accuracy: 0.9098\n",
            "Epoch 2/10\n",
            "1875/1875 [==============================] - 7s 4ms/step - loss: 0.2579 - accuracy: 0.9228 - val_loss: 0.1959 - val_accuracy: 0.9380\n",
            "Epoch 3/10\n",
            "1875/1875 [==============================] - 7s 4ms/step - loss: 0.1863 - accuracy: 0.9428 - val_loss: 0.1436 - val_accuracy: 0.9546\n",
            "Epoch 4/10\n",
            "1875/1875 [==============================] - 6s 3ms/step - loss: 0.1464 - accuracy: 0.9546 - val_loss: 0.1258 - val_accuracy: 0.9619\n",
            "Epoch 5/10\n",
            "1875/1875 [==============================] - 7s 4ms/step - loss: 0.1222 - accuracy: 0.9625 - val_loss: 0.1071 - val_accuracy: 0.9664\n",
            "Epoch 6/10\n",
            "1875/1875 [==============================] - 6s 3ms/step - loss: 0.1037 - accuracy: 0.9681 - val_loss: 0.0899 - val_accuracy: 0.9720\n",
            "Epoch 7/10\n",
            "1875/1875 [==============================] - 7s 4ms/step - loss: 0.0912 - accuracy: 0.9718 - val_loss: 0.0991 - val_accuracy: 0.9691\n",
            "Epoch 8/10\n",
            "1875/1875 [==============================] - 6s 3ms/step - loss: 0.0808 - accuracy: 0.9747 - val_loss: 0.0823 - val_accuracy: 0.9737\n",
            "Epoch 9/10\n",
            "1875/1875 [==============================] - 7s 4ms/step - loss: 0.0736 - accuracy: 0.9768 - val_loss: 0.0812 - val_accuracy: 0.9733\n",
            "Epoch 10/10\n",
            "1875/1875 [==============================] - 6s 3ms/step - loss: 0.0677 - accuracy: 0.9787 - val_loss: 0.0844 - val_accuracy: 0.9723\n"
          ]
        },
        {
          "output_type": "execute_result",
          "data": {
            "text/plain": [
              "<keras.callbacks.History at 0x7f606c22a110>"
            ]
          },
          "metadata": {},
          "execution_count": 40
        }
      ]
    },
    {
      "cell_type": "markdown",
      "source": [
        "Now we define 3 different targeted attacks :\n",
        "\n",
        "1.Fast Gradient Sign Method(FGSM)\n",
        "\n",
        "2.Deep Fool\n",
        "\n",
        "3.Adversarial Examples via Transformation-Based Error Feedback(ABBA)."
      ],
      "metadata": {
        "id": "Cltz_8m3OD9Q"
      }
    },
    {
      "cell_type": "code",
      "source": [
        "# Define function for FGSM attack\n",
        "def fgsm_attack(input_image, target_label, epsilon=0.1):\n",
        "    input_tensor = tf.convert_to_tensor(input_image, dtype=tf.float32)\n",
        "    target_label = tf.convert_to_tensor(target_label, dtype=tf.float32)\n",
        "\n",
        "    with tf.GradientTape() as tape:\n",
        "        tape.watch(input_tensor)\n",
        "        prediction = model(input_tensor)\n",
        "        loss = K.categorical_crossentropy(target_label, prediction)\n",
        "\n",
        "    gradient = tape.gradient(loss, input_tensor)\n",
        "    signed_grad = tf.sign(gradient)\n",
        "    perturbed_image = input_image + epsilon * signed_grad\n",
        "    perturbed_image = np.clip(perturbed_image, 0, 1)\n",
        "\n",
        "    return perturbed_image"
      ],
      "metadata": {
        "id": "0IKSTW-hfoCk"
      },
      "execution_count": 41,
      "outputs": []
    },
    {
      "cell_type": "code",
      "source": [
        "def deepfool_attack(input_image, num_classes=10, overshoot=0.02, max_iter=50):\n",
        "    input_image = tf.Variable(input_image, dtype=tf.float32)\n",
        "    f = model(input_image)\n",
        "    I = tf.argmax(f)\n",
        "    I = tf.reshape(I, (1,))\n",
        "    I = tf.cast(I, tf.int32)\n",
        "    w = tf.Variable(np.zeros((num_classes,)), dtype=tf.float32)\n",
        "    r = tf.zeros_like(input_image)\n",
        "    perturbed_image = tf.Variable(input_image, dtype=tf.float32)\n",
        "\n",
        "    for _ in range(max_iter):\n",
        "        f = model(perturbed_image)\n",
        "        f = tf.reshape(f, (num_classes,))\n",
        "        I = tf.cast(I, tf.int32)\n",
        "        label = tf.argmax(f)\n",
        "        k_i = label\n",
        "        pert = np.inf\n",
        "        for k in range(num_classes):\n",
        "            if k == k_i:\n",
        "                continue\n",
        "            w_gradient = f[k] - f[k_i]\n",
        "            w_gradient_grad = tf.gradients(w_gradient, input_image)[0]\n",
        "            norm = tf.norm(w_gradient_grad)\n",
        "            pert_k = abs(w_gradient) / norm\n",
        "            if pert_k < pert:\n",
        "                pert = pert_k\n",
        "                w = w_gradient_grad\n",
        "\n",
        "        r_i = (pert + 1e-4) * w / tf.norm(w)\n",
        "        r = tf.add(r, r_i)\n",
        "\n",
        "        perturbed_image = tf.add(perturbed_image, (1 + overshoot) * r)\n",
        "        perturbed_image = tf.clip_by_value(perturbed_image, 0, 1)\n",
        "        perturbed_image = tf.Variable(perturbed_image)\n",
        "\n",
        "    return perturbed_image"
      ],
      "metadata": {
        "id": "UjRRUMESbTtd"
      },
      "execution_count": 42,
      "outputs": []
    },
    {
      "cell_type": "code",
      "source": [
        "def abba_attack(input_image, target_label, num_iterations=50, epsilon=0.01):\n",
        "    perturbed_image = tf.Variable(input_image, dtype=tf.float32)\n",
        "    target_label = tf.constant(target_label, dtype=tf.float32)\n",
        "\n",
        "    for _ in range(num_iterations):\n",
        "        with tf.GradientTape() as tape:\n",
        "            tape.watch(perturbed_image)\n",
        "            prediction = model(perturbed_image)\n",
        "            loss = K.categorical_crossentropy(target_label, prediction)\n",
        "\n",
        "        gradient = tape.gradient(loss, perturbed_image)\n",
        "        signed_grad = tf.sign(gradient)\n",
        "        perturbed_image = tf.clip_by_value(perturbed_image + epsilon * signed_grad, 0, 1)\n",
        "\n",
        "    return perturbed_image\n"
      ],
      "metadata": {
        "id": "qyDJ6fe5cGe6"
      },
      "execution_count": 43,
      "outputs": []
    },
    {
      "cell_type": "code",
      "source": [
        "# Perform targeted attacks and evaluate results\n",
        "def evaluate_attack(attack_func, attack_indices):\n",
        "    successful_attacks = 0\n",
        "    distance_sum = 0\n",
        "    for i in attack_indices:\n",
        "        original_image = x_test[i]\n",
        "        target_label = (y_test[i] + 1) % 10  # Choose a different target class\n",
        "\n",
        "        perturbed_image = attack_func(original_image, target_label)\n",
        "        perturbed_label = np.argmax(model.predict(np.reshape(perturbed_image, (1, 784))))\n",
        "\n",
        "        distance = np.mean(np.abs(original_image - perturbed_image))\n",
        "        distance_sum += distance\n",
        "\n",
        "        if perturbed_label == target_label:\n",
        "            successful_attacks += 1\n",
        "\n",
        "        # Display the images\n",
        "        plt.figure()\n",
        "        plt.subplot(1, 2, 1)\n",
        "        plt.imshow(original_image.reshape((28, 28)), cmap='gray')\n",
        "        plt.title('Original')\n",
        "        plt.axis('off')\n",
        "        plt.subplot(1, 2, 2)\n",
        "        plt.imshow(perturbed_image.reshape((28, 28)), cmap='gray')\n",
        "        plt.title('Perturbed')\n",
        "        plt.axis('off')\n",
        "        plt.show()\n",
        "\n",
        "        print(f\"Sample {i+1}: Original Label - {np.argmax(y_test[i])}, Perturbed Label - {perturbed_label}\")"
      ],
      "metadata": {
        "id": "N8p4re7Qt4yf"
      },
      "execution_count": 44,
      "outputs": []
    },
    {
      "cell_type": "code",
      "source": [
        "# Choose 5 different numbers to attack\n",
        "attack_indices = [0, 100, 500, 1000, 1500]"
      ],
      "metadata": {
        "id": "4Sk2yW0CP8ud"
      },
      "execution_count": 45,
      "outputs": []
    },
    {
      "cell_type": "code",
      "source": [
        "# FGSM attack\n",
        "print(\"FGSM Attack:\")\n",
        "evaluate_attack(fgsm_attack, attack_indices)\n",
        "\n",
        "# DeepFool attack\n",
        "print(\"\\nDeepFool Attack:\")\n",
        "evaluate_attack(deepfool_attack, attack_indices)\n",
        "\n",
        "# ABBA attack\n",
        "print(\"ABBA Attack:\")\n",
        "evaluate_attack(abba_attack, attack_indices)"
      ],
      "metadata": {
        "colab": {
          "base_uri": "https://localhost:8080/",
          "height": 519
        },
        "id": "fnBWNHCWcjRa",
        "outputId": "06a5916c-642d-4672-c37a-97571a380646"
      },
      "execution_count": 46,
      "outputs": [
        {
          "output_type": "stream",
          "name": "stdout",
          "text": [
            "FGSM Attack:\n"
          ]
        },
        {
          "output_type": "error",
          "ename": "ValueError",
          "evalue": "ignored",
          "traceback": [
            "\u001b[0;31m---------------------------------------------------------------------------\u001b[0m",
            "\u001b[0;31mValueError\u001b[0m                                Traceback (most recent call last)",
            "\u001b[0;32m<ipython-input-46-1263996d0cc3>\u001b[0m in \u001b[0;36m<cell line: 3>\u001b[0;34m()\u001b[0m\n\u001b[1;32m      1\u001b[0m \u001b[0;31m# FGSM attack\u001b[0m\u001b[0;34m\u001b[0m\u001b[0;34m\u001b[0m\u001b[0m\n\u001b[1;32m      2\u001b[0m \u001b[0mprint\u001b[0m\u001b[0;34m(\u001b[0m\u001b[0;34m\"FGSM Attack:\"\u001b[0m\u001b[0;34m)\u001b[0m\u001b[0;34m\u001b[0m\u001b[0;34m\u001b[0m\u001b[0m\n\u001b[0;32m----> 3\u001b[0;31m \u001b[0mevaluate_attack\u001b[0m\u001b[0;34m(\u001b[0m\u001b[0mfgsm_attack\u001b[0m\u001b[0;34m,\u001b[0m \u001b[0mattack_indices\u001b[0m\u001b[0;34m)\u001b[0m\u001b[0;34m\u001b[0m\u001b[0;34m\u001b[0m\u001b[0m\n\u001b[0m\u001b[1;32m      4\u001b[0m \u001b[0;34m\u001b[0m\u001b[0m\n\u001b[1;32m      5\u001b[0m \u001b[0;31m# DeepFool attack\u001b[0m\u001b[0;34m\u001b[0m\u001b[0;34m\u001b[0m\u001b[0m\n",
            "\u001b[0;32m<ipython-input-44-71a94176951c>\u001b[0m in \u001b[0;36mevaluate_attack\u001b[0;34m(attack_func, attack_indices)\u001b[0m\n\u001b[1;32m      7\u001b[0m         \u001b[0mtarget_label\u001b[0m \u001b[0;34m=\u001b[0m \u001b[0;34m(\u001b[0m\u001b[0my_test\u001b[0m\u001b[0;34m[\u001b[0m\u001b[0mi\u001b[0m\u001b[0;34m]\u001b[0m \u001b[0;34m+\u001b[0m \u001b[0;36m1\u001b[0m\u001b[0;34m)\u001b[0m \u001b[0;34m%\u001b[0m \u001b[0;36m10\u001b[0m  \u001b[0;31m# Choose a different target class\u001b[0m\u001b[0;34m\u001b[0m\u001b[0;34m\u001b[0m\u001b[0m\n\u001b[1;32m      8\u001b[0m \u001b[0;34m\u001b[0m\u001b[0m\n\u001b[0;32m----> 9\u001b[0;31m         \u001b[0mperturbed_image\u001b[0m \u001b[0;34m=\u001b[0m \u001b[0mattack_func\u001b[0m\u001b[0;34m(\u001b[0m\u001b[0moriginal_image\u001b[0m\u001b[0;34m,\u001b[0m \u001b[0mtarget_label\u001b[0m\u001b[0;34m)\u001b[0m\u001b[0;34m\u001b[0m\u001b[0;34m\u001b[0m\u001b[0m\n\u001b[0m\u001b[1;32m     10\u001b[0m         \u001b[0mperturbed_label\u001b[0m \u001b[0;34m=\u001b[0m \u001b[0mnp\u001b[0m\u001b[0;34m.\u001b[0m\u001b[0margmax\u001b[0m\u001b[0;34m(\u001b[0m\u001b[0mmodel\u001b[0m\u001b[0;34m.\u001b[0m\u001b[0mpredict\u001b[0m\u001b[0;34m(\u001b[0m\u001b[0mnp\u001b[0m\u001b[0;34m.\u001b[0m\u001b[0mreshape\u001b[0m\u001b[0;34m(\u001b[0m\u001b[0mperturbed_image\u001b[0m\u001b[0;34m,\u001b[0m \u001b[0;34m(\u001b[0m\u001b[0;36m1\u001b[0m\u001b[0;34m,\u001b[0m \u001b[0;36m784\u001b[0m\u001b[0;34m)\u001b[0m\u001b[0;34m)\u001b[0m\u001b[0;34m)\u001b[0m\u001b[0;34m)\u001b[0m\u001b[0;34m\u001b[0m\u001b[0;34m\u001b[0m\u001b[0m\n\u001b[1;32m     11\u001b[0m \u001b[0;34m\u001b[0m\u001b[0m\n",
            "\u001b[0;32m<ipython-input-41-4864656de402>\u001b[0m in \u001b[0;36mfgsm_attack\u001b[0;34m(input_image, target_label, epsilon)\u001b[0m\n\u001b[1;32m      6\u001b[0m     \u001b[0;32mwith\u001b[0m \u001b[0mtf\u001b[0m\u001b[0;34m.\u001b[0m\u001b[0mGradientTape\u001b[0m\u001b[0;34m(\u001b[0m\u001b[0;34m)\u001b[0m \u001b[0;32mas\u001b[0m \u001b[0mtape\u001b[0m\u001b[0;34m:\u001b[0m\u001b[0;34m\u001b[0m\u001b[0;34m\u001b[0m\u001b[0m\n\u001b[1;32m      7\u001b[0m         \u001b[0mtape\u001b[0m\u001b[0;34m.\u001b[0m\u001b[0mwatch\u001b[0m\u001b[0;34m(\u001b[0m\u001b[0minput_tensor\u001b[0m\u001b[0;34m)\u001b[0m\u001b[0;34m\u001b[0m\u001b[0;34m\u001b[0m\u001b[0m\n\u001b[0;32m----> 8\u001b[0;31m         \u001b[0mprediction\u001b[0m \u001b[0;34m=\u001b[0m \u001b[0mmodel\u001b[0m\u001b[0;34m(\u001b[0m\u001b[0minput_tensor\u001b[0m\u001b[0;34m)\u001b[0m\u001b[0;34m\u001b[0m\u001b[0;34m\u001b[0m\u001b[0m\n\u001b[0m\u001b[1;32m      9\u001b[0m         \u001b[0mloss\u001b[0m \u001b[0;34m=\u001b[0m \u001b[0mK\u001b[0m\u001b[0;34m.\u001b[0m\u001b[0mcategorical_crossentropy\u001b[0m\u001b[0;34m(\u001b[0m\u001b[0mtarget_label\u001b[0m\u001b[0;34m,\u001b[0m \u001b[0mprediction\u001b[0m\u001b[0;34m)\u001b[0m\u001b[0;34m\u001b[0m\u001b[0;34m\u001b[0m\u001b[0m\n\u001b[1;32m     10\u001b[0m \u001b[0;34m\u001b[0m\u001b[0m\n",
            "\u001b[0;32m/usr/local/lib/python3.10/dist-packages/keras/utils/traceback_utils.py\u001b[0m in \u001b[0;36merror_handler\u001b[0;34m(*args, **kwargs)\u001b[0m\n\u001b[1;32m     68\u001b[0m             \u001b[0;31m# To get the full stack trace, call:\u001b[0m\u001b[0;34m\u001b[0m\u001b[0;34m\u001b[0m\u001b[0m\n\u001b[1;32m     69\u001b[0m             \u001b[0;31m# `tf.debugging.disable_traceback_filtering()`\u001b[0m\u001b[0;34m\u001b[0m\u001b[0;34m\u001b[0m\u001b[0m\n\u001b[0;32m---> 70\u001b[0;31m             \u001b[0;32mraise\u001b[0m \u001b[0me\u001b[0m\u001b[0;34m.\u001b[0m\u001b[0mwith_traceback\u001b[0m\u001b[0;34m(\u001b[0m\u001b[0mfiltered_tb\u001b[0m\u001b[0;34m)\u001b[0m \u001b[0;32mfrom\u001b[0m \u001b[0;32mNone\u001b[0m\u001b[0;34m\u001b[0m\u001b[0;34m\u001b[0m\u001b[0m\n\u001b[0m\u001b[1;32m     71\u001b[0m         \u001b[0;32mfinally\u001b[0m\u001b[0;34m:\u001b[0m\u001b[0;34m\u001b[0m\u001b[0;34m\u001b[0m\u001b[0m\n\u001b[1;32m     72\u001b[0m             \u001b[0;32mdel\u001b[0m \u001b[0mfiltered_tb\u001b[0m\u001b[0;34m\u001b[0m\u001b[0;34m\u001b[0m\u001b[0m\n",
            "\u001b[0;32m/usr/local/lib/python3.10/dist-packages/keras/engine/input_spec.py\u001b[0m in \u001b[0;36massert_input_compatibility\u001b[0;34m(input_spec, inputs, layer_name)\u001b[0m\n\u001b[1;32m    251\u001b[0m             \u001b[0mndim\u001b[0m \u001b[0;34m=\u001b[0m \u001b[0mx\u001b[0m\u001b[0;34m.\u001b[0m\u001b[0mshape\u001b[0m\u001b[0;34m.\u001b[0m\u001b[0mrank\u001b[0m\u001b[0;34m\u001b[0m\u001b[0;34m\u001b[0m\u001b[0m\n\u001b[1;32m    252\u001b[0m             \u001b[0;32mif\u001b[0m \u001b[0mndim\u001b[0m \u001b[0;32mis\u001b[0m \u001b[0;32mnot\u001b[0m \u001b[0;32mNone\u001b[0m \u001b[0;32mand\u001b[0m \u001b[0mndim\u001b[0m \u001b[0;34m<\u001b[0m \u001b[0mspec\u001b[0m\u001b[0;34m.\u001b[0m\u001b[0mmin_ndim\u001b[0m\u001b[0;34m:\u001b[0m\u001b[0;34m\u001b[0m\u001b[0;34m\u001b[0m\u001b[0m\n\u001b[0;32m--> 253\u001b[0;31m                 raise ValueError(\n\u001b[0m\u001b[1;32m    254\u001b[0m                     \u001b[0;34mf'Input {input_index} of layer \"{layer_name}\" '\u001b[0m\u001b[0;34m\u001b[0m\u001b[0;34m\u001b[0m\u001b[0m\n\u001b[1;32m    255\u001b[0m                     \u001b[0;34m\"is incompatible with the layer: \"\u001b[0m\u001b[0;34m\u001b[0m\u001b[0;34m\u001b[0m\u001b[0m\n",
            "\u001b[0;31mValueError\u001b[0m: Exception encountered when calling layer 'sequential_1' (type Sequential).\n\nInput 0 of layer \"dense_3\" is incompatible with the layer: expected min_ndim=2, found ndim=1. Full shape received: (784,)\n\nCall arguments received by layer 'sequential_1' (type Sequential):\n  • inputs=tf.Tensor(shape=(784,), dtype=float32)\n  • training=None\n  • mask=None"
          ]
        }
      ]
    }
  ]
}